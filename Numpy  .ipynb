{
 "cells": [
  {
   "cell_type": "code",
   "execution_count": 1,
   "id": "b801d46e",
   "metadata": {},
   "outputs": [],
   "source": [
    "#what is numpy-numeric python package that provide multi dimensional array"
   ]
  },
  {
   "cell_type": "code",
   "execution_count": 2,
   "id": "9df89e89",
   "metadata": {},
   "outputs": [],
   "source": [
    "import numpy as np"
   ]
  },
  {
   "cell_type": "code",
   "execution_count": 3,
   "id": "a277aeec",
   "metadata": {},
   "outputs": [
    {
     "data": {
      "text/plain": [
       "array([14.28571429,  8.75      ,  6.66666667,  8.        ])"
      ]
     },
     "execution_count": 3,
     "metadata": {},
     "output_type": "execute_result"
    }
   ],
   "source": [
    "#using array\n",
    "Distance=[100,70,60,80]\n",
    "Time=[7,8,9,10]\n",
    "Distance_Arr=np.array(Distance)\n",
    "Time_Arr=np.array(Time)\n",
    "speed=Distance_Arr/Time_Arr\n",
    "speed"
   ]
  },
  {
   "cell_type": "code",
   "execution_count": 4,
   "id": "dcffcd39",
   "metadata": {},
   "outputs": [
    {
     "data": {
      "text/plain": [
       "numpy.ndarray"
      ]
     },
     "execution_count": 4,
     "metadata": {},
     "output_type": "execute_result"
    }
   ],
   "source": [
    "type(speed)"
   ]
  },
  {
   "cell_type": "code",
   "execution_count": 5,
   "id": "d58bdbc8",
   "metadata": {},
   "outputs": [
    {
     "name": "stdout",
     "output_type": "stream",
     "text": [
      "6\n",
      "11\n",
      "16\n",
      "21\n",
      "26\n",
      "31\n",
      "36\n",
      "41\n",
      "46\n",
      "51\n",
      "56\n",
      "61\n",
      "66\n",
      "71\n",
      "76\n",
      "81\n",
      "86\n",
      "91\n",
      "96\n",
      "101\n",
      "CPU times: total: 0 ns\n",
      "Wall time: 0 ns\n"
     ]
    }
   ],
   "source": [
    "%%time\n",
    "ls=list(range(1,100,5))\n",
    "for i in range(1,100,5):\n",
    "    ls1=i+5\n",
    "    print(ls1)"
   ]
  },
  {
   "cell_type": "code",
   "execution_count": 6,
   "id": "b9b16960",
   "metadata": {},
   "outputs": [
    {
     "name": "stdout",
     "output_type": "stream",
     "text": [
      "[ 1  6 11 16 21 26 31 36 41 46 51 56 61 66 71 76 81 86 91 96]\n",
      "[  6  11  16  21  26  31  36  41  46  51  56  61  66  71  76  81  86  91\n",
      "  96 101]\n",
      "CPU times: total: 0 ns\n",
      "Wall time: 2.15 ms\n"
     ]
    }
   ],
   "source": [
    "%%time\n",
    "ls=np.arange(1,100,5)\n",
    "print(ls)\n",
    "ar=ls+5\n",
    "print(ar)"
   ]
  },
  {
   "cell_type": "markdown",
   "id": "666d9d81",
   "metadata": {},
   "source": [
    "# 1. Time"
   ]
  },
  {
   "cell_type": "code",
   "execution_count": null,
   "id": "616104e9",
   "metadata": {},
   "outputs": [],
   "source": []
  },
  {
   "cell_type": "code",
   "execution_count": 7,
   "id": "68a24db8",
   "metadata": {},
   "outputs": [],
   "source": [
    "import random"
   ]
  },
  {
   "cell_type": "code",
   "execution_count": 8,
   "id": "9dc894ec",
   "metadata": {},
   "outputs": [
    {
     "name": "stderr",
     "output_type": "stream",
     "text": [
      "UsageError: Can't use statement directly after '%%time'!\n"
     ]
    }
   ],
   "source": [
    "%%time                                #numpy\n",
    "for i in range(1000):\n",
    "    a=np.arange(1,1000,3)\n",
    "    b=np.arange(2,1001,3)\n",
    "    c=a+b\n",
    "  "
   ]
  },
  {
   "cell_type": "code",
   "execution_count": null,
   "id": "e1496bf2",
   "metadata": {},
   "outputs": [],
   "source": [
    "%%time                                                  #python\n",
    "for j in range(1000):\n",
    "    ls1=list(range(1,1000,3))\n",
    "    ls2=list(range(2,1001,3))\n",
    "    ls3=[]\n",
    "    for i in range(len(ls1)):\n",
    "        ls3.append(ls1[i]+ls2[i])\n",
    "        #print(ls3)"
   ]
  },
  {
   "cell_type": "markdown",
   "id": "48d3b540",
   "metadata": {},
   "source": [
    "# 2. Memory"
   ]
  },
  {
   "cell_type": "code",
   "execution_count": null,
   "id": "206b3073",
   "metadata": {},
   "outputs": [],
   "source": [
    "#it is use to check memory sys is use for size\n",
    "import sys\n",
    "py_ls=[100,90,80,70,60]\n",
    "numpy_ls=np.array([50,40,30,20])\n",
    "\n",
    "sizeof_pyls=sys.getsizeof(1)*len(py_ls)\n",
    "sizeof_numpyls=numpy_ls.itemsize * numpy_ls.size\n",
    "\n",
    "print(\"size of python list\",sizeof_pyls)\n",
    "print(\"size of numpy list\",sizeof_numpyls)\n"
   ]
  },
  {
   "cell_type": "code",
   "execution_count": null,
   "id": "11bacfec",
   "metadata": {},
   "outputs": [],
   "source": [
    "%%time\n",
    "import numpy as np\n",
    "ls_n= np.array([[100, 20, 34],\n",
    "             [300, 400, 600]])\n",
    "size_x=ls_n.itemsize * ls_n.size\n",
    "print(\"size of list : \",size_x)"
   ]
  },
  {
   "cell_type": "markdown",
   "id": "b7e76949",
   "metadata": {},
   "source": [
    "# 3.Numpy arrays\n",
    "## Generation Of Numpy array Using List\n"
   ]
  },
  {
   "cell_type": "code",
   "execution_count": 9,
   "id": "d4ec3cda",
   "metadata": {},
   "outputs": [
    {
     "name": "stdout",
     "output_type": "stream",
     "text": [
      "[10, 20, 30]\n"
     ]
    }
   ],
   "source": [
    "#1d matrix\n",
    "ls=[10,20,30]\n",
    "print(ls)"
   ]
  },
  {
   "cell_type": "code",
   "execution_count": 10,
   "id": "daa3cfd4",
   "metadata": {},
   "outputs": [
    {
     "name": "stdout",
     "output_type": "stream",
     "text": [
      "<class 'list'>\n"
     ]
    }
   ],
   "source": [
    "print(type(ls))"
   ]
  },
  {
   "cell_type": "code",
   "execution_count": 11,
   "id": "e17e2c43",
   "metadata": {},
   "outputs": [
    {
     "data": {
      "text/plain": [
       "array([10, 20, 30])"
      ]
     },
     "execution_count": 11,
     "metadata": {},
     "output_type": "execute_result"
    }
   ],
   "source": [
    "np.array(ls)\n"
   ]
  },
  {
   "cell_type": "code",
   "execution_count": 12,
   "id": "3af6e773",
   "metadata": {},
   "outputs": [
    {
     "data": {
      "text/plain": [
       "[[10, 20, 30], [40, 50, 60], [70, 80, 90]]"
      ]
     },
     "execution_count": 12,
     "metadata": {},
     "output_type": "execute_result"
    }
   ],
   "source": [
    "#2d matrix\n",
    "matrix1=[[10,20,30],[40,50,60],[70,80,90]]\n",
    "matrix1"
   ]
  },
  {
   "cell_type": "code",
   "execution_count": 13,
   "id": "e1849f35",
   "metadata": {},
   "outputs": [],
   "source": [
    "#multiple ways to create matrix"
   ]
  },
  {
   "cell_type": "code",
   "execution_count": 14,
   "id": "113e4f5e",
   "metadata": {},
   "outputs": [
    {
     "data": {
      "text/plain": [
       "array([[10, 20, 30],\n",
       "       [40, 50, 60],\n",
       "       [70, 80, 90]])"
      ]
     },
     "execution_count": 14,
     "metadata": {},
     "output_type": "execute_result"
    }
   ],
   "source": [
    "#1 using array - we can do internal addition into array it give proper access\n",
    "np.array(matrix1)"
   ]
  },
  {
   "cell_type": "code",
   "execution_count": null,
   "id": "40cb5bcb",
   "metadata": {},
   "outputs": [],
   "source": []
  },
  {
   "cell_type": "markdown",
   "id": "0ac2b451",
   "metadata": {},
   "source": [
    "# Generation of numpy array using built in functions"
   ]
  },
  {
   "cell_type": "code",
   "execution_count": 15,
   "id": "c5c82eaa",
   "metadata": {},
   "outputs": [
    {
     "data": {
      "text/plain": [
       "array([ 1,  2,  3,  4,  5,  6,  7,  8,  9, 10, 11, 12, 13, 14, 15, 16, 17,\n",
       "       18, 19])"
      ]
     },
     "execution_count": 15,
     "metadata": {},
     "output_type": "execute_result"
    }
   ],
   "source": [
    "#it is simmilar to range()\n",
    "np.arange(1,20)"
   ]
  },
  {
   "cell_type": "code",
   "execution_count": 16,
   "id": "8abd6921",
   "metadata": {},
   "outputs": [
    {
     "data": {
      "text/plain": [
       "array([ 1,  4,  7, 10, 13, 16, 19, 22, 25, 28])"
      ]
     },
     "execution_count": 16,
     "metadata": {},
     "output_type": "execute_result"
    }
   ],
   "source": [
    "np.arange(1,30,3)"
   ]
  },
  {
   "cell_type": "code",
   "execution_count": 17,
   "id": "a85cc5b8",
   "metadata": {},
   "outputs": [
    {
     "data": {
      "text/plain": [
       "array([], dtype=int32)"
      ]
     },
     "execution_count": 17,
     "metadata": {},
     "output_type": "execute_result"
    }
   ],
   "source": [
    "np.arange(1,20,-1)"
   ]
  },
  {
   "cell_type": "code",
   "execution_count": 18,
   "id": "d4be53f6",
   "metadata": {},
   "outputs": [
    {
     "data": {
      "text/plain": [
       "array([], dtype=int32)"
      ]
     },
     "execution_count": 18,
     "metadata": {},
     "output_type": "execute_result"
    }
   ],
   "source": [
    "np.arange(-20,1,-1)"
   ]
  },
  {
   "cell_type": "code",
   "execution_count": 19,
   "id": "d122db8c",
   "metadata": {},
   "outputs": [
    {
     "data": {
      "text/plain": [
       "array([1, 2, 3, 4, 5, 6, 7, 8, 9])"
      ]
     },
     "execution_count": 19,
     "metadata": {},
     "output_type": "execute_result"
    }
   ],
   "source": [
    "np.arange(1,10,1)"
   ]
  },
  {
   "cell_type": "markdown",
   "id": "38b36e51",
   "metadata": {},
   "source": [
    "# Generate arrays on zeros and ones"
   ]
  },
  {
   "cell_type": "code",
   "execution_count": 20,
   "id": "03912a3e",
   "metadata": {},
   "outputs": [
    {
     "data": {
      "text/plain": [
       "array([0., 0., 0., 0.])"
      ]
     },
     "execution_count": 20,
     "metadata": {},
     "output_type": "execute_result"
    }
   ],
   "source": [
    "np.zeros(4)"
   ]
  },
  {
   "cell_type": "code",
   "execution_count": 21,
   "id": "a4d3764c",
   "metadata": {},
   "outputs": [
    {
     "data": {
      "text/plain": [
       "array([[0., 0., 0., 0.],\n",
       "       [0., 0., 0., 0.],\n",
       "       [0., 0., 0., 0.],\n",
       "       [0., 0., 0., 0.]])"
      ]
     },
     "execution_count": 21,
     "metadata": {},
     "output_type": "execute_result"
    }
   ],
   "source": [
    "np.zeros((4,4))"
   ]
  },
  {
   "cell_type": "code",
   "execution_count": 22,
   "id": "851e4f78",
   "metadata": {},
   "outputs": [
    {
     "data": {
      "text/plain": [
       "array([1., 1., 1., 1.])"
      ]
     },
     "execution_count": 22,
     "metadata": {},
     "output_type": "execute_result"
    }
   ],
   "source": [
    "np.ones(4)"
   ]
  },
  {
   "cell_type": "code",
   "execution_count": 23,
   "id": "0a86d1d2",
   "metadata": {},
   "outputs": [
    {
     "data": {
      "text/plain": [
       "array([[1., 1., 1., 1.],\n",
       "       [1., 1., 1., 1.],\n",
       "       [1., 1., 1., 1.],\n",
       "       [1., 1., 1., 1.]])"
      ]
     },
     "execution_count": 23,
     "metadata": {},
     "output_type": "execute_result"
    }
   ],
   "source": [
    "np.ones((4,4))"
   ]
  },
  {
   "cell_type": "markdown",
   "id": "d2bf16ad",
   "metadata": {},
   "source": [
    "# Linspace- it distributes equally"
   ]
  },
  {
   "cell_type": "code",
   "execution_count": 24,
   "id": "31761256",
   "metadata": {},
   "outputs": [
    {
     "data": {
      "text/plain": [
       "array([ 0.,  5., 10.])"
      ]
     },
     "execution_count": 24,
     "metadata": {},
     "output_type": "execute_result"
    }
   ],
   "source": [
    "np.linspace(0,10,3)"
   ]
  },
  {
   "cell_type": "code",
   "execution_count": 25,
   "id": "ac536c6c",
   "metadata": {},
   "outputs": [
    {
     "data": {
      "text/plain": [
       "array([ 10. ,  32.5,  55. ,  77.5, 100. ])"
      ]
     },
     "execution_count": 25,
     "metadata": {},
     "output_type": "execute_result"
    }
   ],
   "source": [
    "np.linspace(10,100,5)"
   ]
  },
  {
   "cell_type": "markdown",
   "id": "36ce0ce0",
   "metadata": {},
   "source": [
    "# EYE- It gives identity matrix"
   ]
  },
  {
   "cell_type": "code",
   "execution_count": 26,
   "id": "34f6613e",
   "metadata": {},
   "outputs": [
    {
     "data": {
      "text/plain": [
       "array([[1., 0., 0., 0.],\n",
       "       [0., 1., 0., 0.],\n",
       "       [0., 0., 1., 0.],\n",
       "       [0., 0., 0., 1.]])"
      ]
     },
     "execution_count": 26,
     "metadata": {},
     "output_type": "execute_result"
    }
   ],
   "source": [
    "np.eye(4,4)"
   ]
  },
  {
   "cell_type": "code",
   "execution_count": 27,
   "id": "3f4070c2",
   "metadata": {},
   "outputs": [
    {
     "data": {
      "text/plain": [
       "array([[1., 0., 0.],\n",
       "       [0., 1., 0.],\n",
       "       [0., 0., 1.]])"
      ]
     },
     "execution_count": 27,
     "metadata": {},
     "output_type": "execute_result"
    }
   ],
   "source": [
    "np.eye(3,3)"
   ]
  },
  {
   "cell_type": "markdown",
   "id": "222b29fd",
   "metadata": {},
   "source": [
    "# Generate random number\n",
    "# rand it give random value between (0-1)"
   ]
  },
  {
   "cell_type": "code",
   "execution_count": 28,
   "id": "3244c3d3",
   "metadata": {},
   "outputs": [
    {
     "data": {
      "text/plain": [
       "array([0.90997111, 0.72166028, 0.83660504, 0.39663096, 0.97669641])"
      ]
     },
     "execution_count": 28,
     "metadata": {},
     "output_type": "execute_result"
    }
   ],
   "source": [
    "np.random.rand(5)"
   ]
  },
  {
   "cell_type": "code",
   "execution_count": 29,
   "id": "96494106",
   "metadata": {},
   "outputs": [
    {
     "data": {
      "text/plain": [
       "array([[0.60607862, 0.23278408, 0.05375809, 0.40491423],\n",
       "       [0.76652868, 0.32717849, 0.88723371, 0.56584339],\n",
       "       [0.22929637, 0.36449277, 0.73700533, 0.31203655],\n",
       "       [0.40593124, 0.07915716, 0.35447563, 0.29279521]])"
      ]
     },
     "execution_count": 29,
     "metadata": {},
     "output_type": "execute_result"
    }
   ],
   "source": [
    "np.random.rand(4,4)"
   ]
  },
  {
   "cell_type": "markdown",
   "id": "865252f5",
   "metadata": {},
   "source": [
    "# randn"
   ]
  },
  {
   "cell_type": "code",
   "execution_count": 30,
   "id": "1da69d34",
   "metadata": {},
   "outputs": [
    {
     "data": {
      "text/plain": [
       "array([-0.02197819,  1.84084239,  1.05396729,  0.93025853])"
      ]
     },
     "execution_count": 30,
     "metadata": {},
     "output_type": "execute_result"
    }
   ],
   "source": [
    "#it generate normal distribution (n-normal ) it gives negative or positive values\n",
    "np.random.randn(4)"
   ]
  },
  {
   "cell_type": "code",
   "execution_count": 31,
   "id": "a0aa2c3f",
   "metadata": {},
   "outputs": [
    {
     "data": {
      "text/plain": [
       "array([[ 0.26838748,  0.33417786,  0.57144423,  1.44293359],\n",
       "       [ 1.22334844, -0.39518718, -0.61366019,  0.7914089 ],\n",
       "       [ 0.79215709,  0.00614052,  0.35478411,  0.07048447],\n",
       "       [ 0.03637222, -2.66199399,  0.49586825, -0.15114299]])"
      ]
     },
     "execution_count": 31,
     "metadata": {},
     "output_type": "execute_result"
    }
   ],
   "source": [
    "np.random.randn(4,4)"
   ]
  },
  {
   "cell_type": "markdown",
   "id": "8e433166",
   "metadata": {},
   "source": [
    "# randint"
   ]
  },
  {
   "cell_type": "code",
   "execution_count": 32,
   "id": "f65b768a",
   "metadata": {},
   "outputs": [
    {
     "data": {
      "text/plain": [
       "84"
      ]
     },
     "execution_count": 32,
     "metadata": {},
     "output_type": "execute_result"
    }
   ],
   "source": [
    "#it give integer but we have to give range not give float values\n",
    "np.random.randint(1,100)"
   ]
  },
  {
   "cell_type": "code",
   "execution_count": 33,
   "id": "616d6477",
   "metadata": {},
   "outputs": [
    {
     "data": {
      "text/plain": [
       "array([ 9, 89, 55, 26, 40])"
      ]
     },
     "execution_count": 33,
     "metadata": {},
     "output_type": "execute_result"
    }
   ],
   "source": [
    "np.random.randint(1,100,5)"
   ]
  },
  {
   "cell_type": "code",
   "execution_count": 34,
   "id": "f7a193dc",
   "metadata": {},
   "outputs": [
    {
     "data": {
      "text/plain": [
       "array([1.        , 3.33333333, 5.66666667, 8.        ])"
      ]
     },
     "execution_count": 34,
     "metadata": {},
     "output_type": "execute_result"
    }
   ],
   "source": [
    "np.linspace(1,8,4)"
   ]
  },
  {
   "cell_type": "code",
   "execution_count": 35,
   "id": "084ea9f7",
   "metadata": {},
   "outputs": [
    {
     "data": {
      "text/plain": [
       "array([5, 5, 5, 7])"
      ]
     },
     "execution_count": 35,
     "metadata": {},
     "output_type": "execute_result"
    }
   ],
   "source": [
    "np.random.randint(1,8,4)"
   ]
  },
  {
   "cell_type": "code",
   "execution_count": 36,
   "id": "05d05daf",
   "metadata": {},
   "outputs": [
    {
     "data": {
      "text/plain": [
       "array([2, 6, 4, 7])"
      ]
     },
     "execution_count": 36,
     "metadata": {},
     "output_type": "execute_result"
    }
   ],
   "source": [
    "np.random.randint(2,9,4)"
   ]
  },
  {
   "cell_type": "markdown",
   "id": "ddb19167",
   "metadata": {},
   "source": [
    "# Array Distribute and method\n",
    "# shape"
   ]
  },
  {
   "cell_type": "code",
   "execution_count": 37,
   "id": "a858b7d3",
   "metadata": {},
   "outputs": [],
   "source": [
    "array1=np.arange(20)\n",
    "random_arr=np.random.randint(1,50,10)"
   ]
  },
  {
   "cell_type": "code",
   "execution_count": 38,
   "id": "ca13446c",
   "metadata": {},
   "outputs": [
    {
     "data": {
      "text/plain": [
       "array([ 0,  1,  2,  3,  4,  5,  6,  7,  8,  9, 10, 11, 12, 13, 14, 15, 16,\n",
       "       17, 18, 19])"
      ]
     },
     "execution_count": 38,
     "metadata": {},
     "output_type": "execute_result"
    }
   ],
   "source": [
    "array1"
   ]
  },
  {
   "cell_type": "code",
   "execution_count": 39,
   "id": "07686b15",
   "metadata": {},
   "outputs": [
    {
     "data": {
      "text/plain": [
       "(20,)"
      ]
     },
     "execution_count": 39,
     "metadata": {},
     "output_type": "execute_result"
    }
   ],
   "source": [
    "array1.shape"
   ]
  },
  {
   "cell_type": "code",
   "execution_count": 40,
   "id": "9e74aa72",
   "metadata": {},
   "outputs": [
    {
     "data": {
      "text/plain": [
       "array([18, 34, 42, 23, 36, 30, 12, 21, 35, 13])"
      ]
     },
     "execution_count": 40,
     "metadata": {},
     "output_type": "execute_result"
    }
   ],
   "source": [
    "random_arr"
   ]
  },
  {
   "cell_type": "code",
   "execution_count": 41,
   "id": "6d1e3251",
   "metadata": {},
   "outputs": [
    {
     "data": {
      "text/plain": [
       "(10,)"
      ]
     },
     "execution_count": 41,
     "metadata": {},
     "output_type": "execute_result"
    }
   ],
   "source": [
    "random_arr.shape"
   ]
  },
  {
   "cell_type": "raw",
   "id": "d41cb645",
   "metadata": {},
   "source": []
  },
  {
   "cell_type": "markdown",
   "id": "ab709669",
   "metadata": {},
   "source": [
    "# Reshape"
   ]
  },
  {
   "cell_type": "code",
   "execution_count": 42,
   "id": "31694712",
   "metadata": {},
   "outputs": [],
   "source": [
    "# change its original shape\n",
    "arr1=array1.reshape(2,10)"
   ]
  },
  {
   "cell_type": "code",
   "execution_count": 43,
   "id": "735b6f79",
   "metadata": {},
   "outputs": [
    {
     "data": {
      "text/plain": [
       "2"
      ]
     },
     "execution_count": 43,
     "metadata": {},
     "output_type": "execute_result"
    }
   ],
   "source": [
    "arr1.shape[0]   #index number"
   ]
  },
  {
   "cell_type": "code",
   "execution_count": 44,
   "id": "5cbd060b",
   "metadata": {},
   "outputs": [
    {
     "data": {
      "text/plain": [
       "array([0, 1, 2, 3, 4, 5, 6, 7])"
      ]
     },
     "execution_count": 44,
     "metadata": {},
     "output_type": "execute_result"
    }
   ],
   "source": [
    "ar=np.arange(8) \n",
    "ar"
   ]
  },
  {
   "cell_type": "code",
   "execution_count": 45,
   "id": "3067b617",
   "metadata": {},
   "outputs": [
    {
     "data": {
      "text/plain": [
       "array([[0, 1, 2, 3],\n",
       "       [4, 5, 6, 7]])"
      ]
     },
     "execution_count": 45,
     "metadata": {},
     "output_type": "execute_result"
    }
   ],
   "source": [
    "ar.reshape(2,4)"
   ]
  },
  {
   "cell_type": "code",
   "execution_count": 46,
   "id": "d003f4bb",
   "metadata": {},
   "outputs": [
    {
     "data": {
      "text/plain": [
       "array([[0, 1, 2, 3, 4, 5, 6, 7]])"
      ]
     },
     "execution_count": 46,
     "metadata": {},
     "output_type": "execute_result"
    }
   ],
   "source": [
    "ar.reshape(1,-1)"
   ]
  },
  {
   "cell_type": "code",
   "execution_count": 47,
   "id": "d6fcb0b7",
   "metadata": {},
   "outputs": [
    {
     "data": {
      "text/plain": [
       "array([[0],\n",
       "       [1],\n",
       "       [2],\n",
       "       [3],\n",
       "       [4],\n",
       "       [5],\n",
       "       [6],\n",
       "       [7]])"
      ]
     },
     "execution_count": 47,
     "metadata": {},
     "output_type": "execute_result"
    }
   ],
   "source": [
    "ar.reshape(8,-1) # 1st element stands for rowa ND 2ND COL"
   ]
  },
  {
   "cell_type": "code",
   "execution_count": 48,
   "id": "a7f69e89",
   "metadata": {},
   "outputs": [
    {
     "data": {
      "text/plain": [
       "array([ 1,  2,  3,  4,  5,  6,  7,  8,  9, 10, 11, 12, 13, 14, 15, 16, 17,\n",
       "       18, 19])"
      ]
     },
     "execution_count": 48,
     "metadata": {},
     "output_type": "execute_result"
    }
   ],
   "source": [
    "arr=np.arange(1,20)\n",
    "arr"
   ]
  },
  {
   "cell_type": "code",
   "execution_count": 49,
   "id": "d8c639a5",
   "metadata": {},
   "outputs": [
    {
     "data": {
      "text/plain": [
       "19"
      ]
     },
     "execution_count": 49,
     "metadata": {},
     "output_type": "execute_result"
    }
   ],
   "source": [
    "arr.max()"
   ]
  },
  {
   "cell_type": "code",
   "execution_count": 50,
   "id": "65a27dbc",
   "metadata": {},
   "outputs": [
    {
     "data": {
      "text/plain": [
       "1"
      ]
     },
     "execution_count": 50,
     "metadata": {},
     "output_type": "execute_result"
    }
   ],
   "source": [
    "arr.min()"
   ]
  },
  {
   "cell_type": "code",
   "execution_count": 51,
   "id": "f24e05ea",
   "metadata": {},
   "outputs": [
    {
     "data": {
      "text/plain": [
       "18"
      ]
     },
     "execution_count": 51,
     "metadata": {},
     "output_type": "execute_result"
    }
   ],
   "source": [
    "arr.argmax()    # it gives indices number max value"
   ]
  },
  {
   "cell_type": "code",
   "execution_count": 52,
   "id": "a2afa46d",
   "metadata": {},
   "outputs": [
    {
     "data": {
      "text/plain": [
       "0"
      ]
     },
     "execution_count": 52,
     "metadata": {},
     "output_type": "execute_result"
    }
   ],
   "source": [
    "arr.argmin()  # it gives index number of min value"
   ]
  },
  {
   "cell_type": "code",
   "execution_count": 53,
   "id": "fb9663d7",
   "metadata": {},
   "outputs": [
    {
     "data": {
      "text/plain": [
       "(1, 20)"
      ]
     },
     "execution_count": 53,
     "metadata": {},
     "output_type": "execute_result"
    }
   ],
   "source": [
    "array1.reshape(1,20).shape #reshape"
   ]
  },
  {
   "cell_type": "markdown",
   "id": "47f0cd9f",
   "metadata": {},
   "source": [
    "# dtype"
   ]
  },
  {
   "cell_type": "code",
   "execution_count": 54,
   "id": "1dfbca54",
   "metadata": {},
   "outputs": [
    {
     "data": {
      "text/plain": [
       "dtype('int32')"
      ]
     },
     "execution_count": 54,
     "metadata": {},
     "output_type": "execute_result"
    }
   ],
   "source": [
    "arr.dtype"
   ]
  },
  {
   "cell_type": "code",
   "execution_count": 55,
   "id": "6b5942b3",
   "metadata": {},
   "outputs": [
    {
     "data": {
      "text/plain": [
       "dtype('int32')"
      ]
     },
     "execution_count": 55,
     "metadata": {},
     "output_type": "execute_result"
    }
   ],
   "source": [
    "np.result_type(arr)"
   ]
  },
  {
   "cell_type": "code",
   "execution_count": 56,
   "id": "e18cd7ae",
   "metadata": {},
   "outputs": [
    {
     "data": {
      "text/plain": [
       "array([0, 1, 2, 3, 4, 5, 6, 7, 8])"
      ]
     },
     "execution_count": 56,
     "metadata": {},
     "output_type": "execute_result"
    }
   ],
   "source": [
    "array2=np.arange(0,10,1.22,dtype=np.int32)\n",
    "array2"
   ]
  },
  {
   "cell_type": "code",
   "execution_count": 57,
   "id": "71a9e570",
   "metadata": {},
   "outputs": [
    {
     "data": {
      "text/plain": [
       "array([0., 1., 2., 3., 4., 5., 6., 7., 8., 9.])"
      ]
     },
     "execution_count": 57,
     "metadata": {},
     "output_type": "execute_result"
    }
   ],
   "source": [
    "array3=np.arange(0,10,1,dtype=np.float64)\n",
    "array3"
   ]
  },
  {
   "cell_type": "code",
   "execution_count": 58,
   "id": "36927453",
   "metadata": {},
   "outputs": [
    {
     "data": {
      "text/plain": [
       "array([0.+0.j, 2.+0.j, 4.+0.j, 6.+0.j, 8.+0.j], dtype=complex64)"
      ]
     },
     "execution_count": 58,
     "metadata": {},
     "output_type": "execute_result"
    }
   ],
   "source": [
    "array4=np.arange(0,10,2,dtype=np.complex64)\n",
    "array4"
   ]
  },
  {
   "cell_type": "code",
   "execution_count": 59,
   "id": "0d992da2",
   "metadata": {},
   "outputs": [
    {
     "data": {
      "text/plain": [
       "numpy.ndarray"
      ]
     },
     "execution_count": 59,
     "metadata": {},
     "output_type": "execute_result"
    }
   ],
   "source": [
    "type(array1)"
   ]
  },
  {
   "cell_type": "code",
   "execution_count": 60,
   "id": "aaa6fdb4",
   "metadata": {},
   "outputs": [
    {
     "data": {
      "text/plain": [
       "numpy.ndarray"
      ]
     },
     "execution_count": 60,
     "metadata": {},
     "output_type": "execute_result"
    }
   ],
   "source": [
    "type(array2)"
   ]
  },
  {
   "cell_type": "code",
   "execution_count": null,
   "id": "e35b27ad",
   "metadata": {},
   "outputs": [],
   "source": []
  },
  {
   "cell_type": "code",
   "execution_count": null,
   "id": "d7a20f70",
   "metadata": {},
   "outputs": [],
   "source": []
  }
 ],
 "metadata": {
  "kernelspec": {
   "display_name": "Python 3 (ipykernel)",
   "language": "python",
   "name": "python3"
  },
  "language_info": {
   "codemirror_mode": {
    "name": "ipython",
    "version": 3
   },
   "file_extension": ".py",
   "mimetype": "text/x-python",
   "name": "python",
   "nbconvert_exporter": "python",
   "pygments_lexer": "ipython3",
   "version": "3.9.12"
  }
 },
 "nbformat": 4,
 "nbformat_minor": 5
}
